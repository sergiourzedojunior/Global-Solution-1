{
 "cells": [
  {
   "cell_type": "code",
   "execution_count": 1,
   "id": "a69929c9",
   "metadata": {},
   "outputs": [
    {
     "name": "stdout",
     "output_type": "stream",
     "text": [
      "Processando shapefile: ..\\dados\\dados_belem\\SH RM_Belem\\RM_Belem_UDH_region.shp\n",
      "Colunas disponíveis no shapefile: Index(['UDH_ATLAS', 'CD_GEOCODM', 'NM_MUNICIP', 'geometry'], dtype='object')\n"
     ]
    },
    {
     "name": "stderr",
     "output_type": "stream",
     "text": [
      "C:\\Users\\Sérgio\\AppData\\Local\\Temp\\ipykernel_20968\\1759685319.py:65: UserWarning: Geometry is in a geographic CRS. Results from 'centroid' are likely incorrect. Use 'GeoSeries.to_crs()' to re-project geometries to a projected CRS before this operation.\n",
      "\n",
      "  gdf[\"latitude\"] = gdf.geometry.centroid.y\n",
      "C:\\Users\\Sérgio\\AppData\\Local\\Temp\\ipykernel_20968\\1759685319.py:66: UserWarning: Geometry is in a geographic CRS. Results from 'centroid' are likely incorrect. Use 'GeoSeries.to_crs()' to re-project geometries to a projected CRS before this operation.\n",
      "\n",
      "  gdf[\"longitude\"] = gdf.geometry.centroid.x\n",
      "C:\\Users\\Sérgio\\AppData\\Local\\Temp\\ipykernel_20968\\1759685319.py:70: FutureWarning: The behavior of array concatenation with empty entries is deprecated. In a future version, this will no longer exclude empty items when determining the result dtype. To retain the old behavior, exclude the empty entries before the concat operation.\n",
      "  df[\"latitude\"] = df[\"latitude\"].combine_first(df[\"latitude_new\"])\n",
      "C:\\Users\\Sérgio\\AppData\\Local\\Temp\\ipykernel_20968\\1759685319.py:71: FutureWarning: The behavior of array concatenation with empty entries is deprecated. In a future version, this will no longer exclude empty items when determining the result dtype. To retain the old behavior, exclude the empty entries before the concat operation.\n",
      "  df[\"longitude\"] = df[\"longitude\"].combine_first(df[\"longitude_new\"])\n",
      "C:\\Users\\Sérgio\\AppData\\Local\\Temp\\ipykernel_20968\\1759685319.py:65: UserWarning: Geometry is in a geographic CRS. Results from 'centroid' are likely incorrect. Use 'GeoSeries.to_crs()' to re-project geometries to a projected CRS before this operation.\n",
      "\n",
      "  gdf[\"latitude\"] = gdf.geometry.centroid.y\n",
      "C:\\Users\\Sérgio\\AppData\\Local\\Temp\\ipykernel_20968\\1759685319.py:66: UserWarning: Geometry is in a geographic CRS. Results from 'centroid' are likely incorrect. Use 'GeoSeries.to_crs()' to re-project geometries to a projected CRS before this operation.\n",
      "\n",
      "  gdf[\"longitude\"] = gdf.geometry.centroid.x\n",
      "C:\\Users\\Sérgio\\AppData\\Local\\Temp\\ipykernel_20968\\1759685319.py:65: UserWarning: Geometry is in a geographic CRS. Results from 'centroid' are likely incorrect. Use 'GeoSeries.to_crs()' to re-project geometries to a projected CRS before this operation.\n",
      "\n",
      "  gdf[\"latitude\"] = gdf.geometry.centroid.y\n",
      "C:\\Users\\Sérgio\\AppData\\Local\\Temp\\ipykernel_20968\\1759685319.py:66: UserWarning: Geometry is in a geographic CRS. Results from 'centroid' are likely incorrect. Use 'GeoSeries.to_crs()' to re-project geometries to a projected CRS before this operation.\n",
      "\n",
      "  gdf[\"longitude\"] = gdf.geometry.centroid.x\n",
      "C:\\Users\\Sérgio\\AppData\\Local\\Temp\\ipykernel_20968\\1759685319.py:65: UserWarning: Geometry is in a geographic CRS. Results from 'centroid' are likely incorrect. Use 'GeoSeries.to_crs()' to re-project geometries to a projected CRS before this operation.\n",
      "\n",
      "  gdf[\"latitude\"] = gdf.geometry.centroid.y\n",
      "C:\\Users\\Sérgio\\AppData\\Local\\Temp\\ipykernel_20968\\1759685319.py:66: UserWarning: Geometry is in a geographic CRS. Results from 'centroid' are likely incorrect. Use 'GeoSeries.to_crs()' to re-project geometries to a projected CRS before this operation.\n",
      "\n",
      "  gdf[\"longitude\"] = gdf.geometry.centroid.x\n",
      "c:\\GitHub\\Global Solution 1\\.venv\\Lib\\site-packages\\pyogrio\\raw.py:198: RuntimeWarning: ..\\dados\\dados_cuiaba\\SH RM_Cuiaba\\RM_Cuiaba_UDH_region.shp contains polygon(s) with rings with invalid winding order. Autocorrecting them, but that shapefile should be corrected using ogr2ogr for example.\n",
      "  return ogr_read(\n"
     ]
    },
    {
     "name": "stdout",
     "output_type": "stream",
     "text": [
      "Processando shapefile: ..\\dados\\dados_bh\\SH RM_Belo_Horizonte\\RM_BeloHorizonte_UDH_region.shp\n",
      "Colunas disponíveis no shapefile: Index(['UDH_ATLAS', 'REGIONAL', 'CD_GEOCODM', 'NM_MUNICIP', 'geometry'], dtype='object')\n",
      "Processando shapefile: ..\\dados\\dados_bs\\SH RM_Baixada_Santista\\RM_Baixada_Santista_UDH_region.shp\n",
      "Colunas disponíveis no shapefile: Index(['UDH_ATLAS', 'CD_GEOCODM', 'NM_MUNICIP', 'geometry'], dtype='object')\n",
      "Processando shapefile: ..\\dados\\dados_campinas\\SH RM_Campinas\\SH RM_Campinas\\RM_Campinas_UDH_Atlas_novo_region.shp\n",
      "Colunas disponíveis no shapefile: Index(['UDH_ATLAS', 'CD_GEOCODM', 'NM_MUNICIP', 'geometry'], dtype='object')\n",
      "Processando shapefile: ..\\dados\\dados_cuiaba\\SH RM_Cuiaba\\RM_Cuiaba_UDH_region.shp\n",
      "Colunas disponíveis no shapefile: Index(['UDH_ATLAS', 'REGIONAL', 'CD_GEOCODM', 'NM_MUNICIP', 'geometry'], dtype='object')\n",
      "Processando shapefile: ..\\dados\\dados_curitiba\\SH RM_Curitiba\\RM_Curitiba_UDH_region.shp\n",
      "Colunas disponíveis no shapefile: Index(['UDH_ATLAS', 'REGIONAL', 'CD_GEOCODM', 'NM_MUNICIP', 'geometry'], dtype='object')\n",
      "Processando shapefile: ..\\dados\\dados_df\\SH RIDE_DF\\RM_RIDE_UDH_region.shp\n"
     ]
    },
    {
     "name": "stderr",
     "output_type": "stream",
     "text": [
      "C:\\Users\\Sérgio\\AppData\\Local\\Temp\\ipykernel_20968\\1759685319.py:65: UserWarning: Geometry is in a geographic CRS. Results from 'centroid' are likely incorrect. Use 'GeoSeries.to_crs()' to re-project geometries to a projected CRS before this operation.\n",
      "\n",
      "  gdf[\"latitude\"] = gdf.geometry.centroid.y\n",
      "C:\\Users\\Sérgio\\AppData\\Local\\Temp\\ipykernel_20968\\1759685319.py:66: UserWarning: Geometry is in a geographic CRS. Results from 'centroid' are likely incorrect. Use 'GeoSeries.to_crs()' to re-project geometries to a projected CRS before this operation.\n",
      "\n",
      "  gdf[\"longitude\"] = gdf.geometry.centroid.x\n",
      "C:\\Users\\Sérgio\\AppData\\Local\\Temp\\ipykernel_20968\\1759685319.py:65: UserWarning: Geometry is in a geographic CRS. Results from 'centroid' are likely incorrect. Use 'GeoSeries.to_crs()' to re-project geometries to a projected CRS before this operation.\n",
      "\n",
      "  gdf[\"latitude\"] = gdf.geometry.centroid.y\n",
      "C:\\Users\\Sérgio\\AppData\\Local\\Temp\\ipykernel_20968\\1759685319.py:66: UserWarning: Geometry is in a geographic CRS. Results from 'centroid' are likely incorrect. Use 'GeoSeries.to_crs()' to re-project geometries to a projected CRS before this operation.\n",
      "\n",
      "  gdf[\"longitude\"] = gdf.geometry.centroid.x\n",
      "C:\\Users\\Sérgio\\AppData\\Local\\Temp\\ipykernel_20968\\1759685319.py:65: UserWarning: Geometry is in a geographic CRS. Results from 'centroid' are likely incorrect. Use 'GeoSeries.to_crs()' to re-project geometries to a projected CRS before this operation.\n",
      "\n",
      "  gdf[\"latitude\"] = gdf.geometry.centroid.y\n",
      "C:\\Users\\Sérgio\\AppData\\Local\\Temp\\ipykernel_20968\\1759685319.py:66: UserWarning: Geometry is in a geographic CRS. Results from 'centroid' are likely incorrect. Use 'GeoSeries.to_crs()' to re-project geometries to a projected CRS before this operation.\n",
      "\n",
      "  gdf[\"longitude\"] = gdf.geometry.centroid.x\n",
      "C:\\Users\\Sérgio\\AppData\\Local\\Temp\\ipykernel_20968\\1759685319.py:65: UserWarning: Geometry is in a geographic CRS. Results from 'centroid' are likely incorrect. Use 'GeoSeries.to_crs()' to re-project geometries to a projected CRS before this operation.\n",
      "\n",
      "  gdf[\"latitude\"] = gdf.geometry.centroid.y\n",
      "C:\\Users\\Sérgio\\AppData\\Local\\Temp\\ipykernel_20968\\1759685319.py:66: UserWarning: Geometry is in a geographic CRS. Results from 'centroid' are likely incorrect. Use 'GeoSeries.to_crs()' to re-project geometries to a projected CRS before this operation.\n",
      "\n",
      "  gdf[\"longitude\"] = gdf.geometry.centroid.x\n",
      "C:\\Users\\Sérgio\\AppData\\Local\\Temp\\ipykernel_20968\\1759685319.py:65: UserWarning: Geometry is in a geographic CRS. Results from 'centroid' are likely incorrect. Use 'GeoSeries.to_crs()' to re-project geometries to a projected CRS before this operation.\n",
      "\n",
      "  gdf[\"latitude\"] = gdf.geometry.centroid.y\n",
      "C:\\Users\\Sérgio\\AppData\\Local\\Temp\\ipykernel_20968\\1759685319.py:66: UserWarning: Geometry is in a geographic CRS. Results from 'centroid' are likely incorrect. Use 'GeoSeries.to_crs()' to re-project geometries to a projected CRS before this operation.\n",
      "\n",
      "  gdf[\"longitude\"] = gdf.geometry.centroid.x\n"
     ]
    },
    {
     "name": "stdout",
     "output_type": "stream",
     "text": [
      "Colunas disponíveis no shapefile: Index(['UDH_ATLAS', 'REGIONAL', 'CD_GEOCODM', 'NM_MUNICIP', 'geometry'], dtype='object')\n",
      "Processando shapefile: ..\\dados\\dados_florianopolis\\dados_florianopolis\\SH RM Florianópolis\\RM_Florianopolis_por_UDH_region.shp\n",
      "Colunas disponíveis no shapefile: Index(['UDH_ATLAS', 'CD_GEOCODM', 'NM_MUNICIP', 'geometry'], dtype='object')\n",
      "Processando shapefile: ..\\dados\\dados_fortaleza\\SH RM_Fortaleza\\RM_Fortaleza_UDH_3_region.shp\n",
      "Colunas disponíveis no shapefile: Index(['UDH_ATLAS', 'REGIONAL', 'CD_GEOCODM', 'NM_MUNICIP', 'geometry'], dtype='object')\n",
      "Processando shapefile: ..\\dados\\dados_goiania\\SH RM_Goiania\\RM_Goiania_UDH_region.shp\n",
      "Colunas disponíveis no shapefile: Index(['UDH_ATLAS', 'CD_GEOCODM', 'NM_MUNICIP', 'geometry'], dtype='object')\n",
      "Processando shapefile: ..\\dados\\dados_maceio\\SH RM_Maceio\\RM_Maceio_UDH_region.shp\n",
      "Colunas disponíveis no shapefile: Index(['UDH_ATLAS', 'REGIONAL', 'CD_GEOCODM', 'NM_MUNICIP', 'geometry'], dtype='object')\n",
      "Processando shapefile: ..\\dados\\dados_manaus\\SH RM_Manaus\\RM_Manaus_UDH_2_region.shp\n",
      "Colunas disponíveis no shapefile: Index(['UDH_ATLAS', 'REGIONAL', 'CD_GEOCODM', 'NM_MUNICIP', 'geometry'], dtype='object')\n"
     ]
    },
    {
     "name": "stderr",
     "output_type": "stream",
     "text": [
      "C:\\Users\\Sérgio\\AppData\\Local\\Temp\\ipykernel_20968\\1759685319.py:65: UserWarning: Geometry is in a geographic CRS. Results from 'centroid' are likely incorrect. Use 'GeoSeries.to_crs()' to re-project geometries to a projected CRS before this operation.\n",
      "\n",
      "  gdf[\"latitude\"] = gdf.geometry.centroid.y\n",
      "C:\\Users\\Sérgio\\AppData\\Local\\Temp\\ipykernel_20968\\1759685319.py:66: UserWarning: Geometry is in a geographic CRS. Results from 'centroid' are likely incorrect. Use 'GeoSeries.to_crs()' to re-project geometries to a projected CRS before this operation.\n",
      "\n",
      "  gdf[\"longitude\"] = gdf.geometry.centroid.x\n",
      "C:\\Users\\Sérgio\\AppData\\Local\\Temp\\ipykernel_20968\\1759685319.py:65: UserWarning: Geometry is in a geographic CRS. Results from 'centroid' are likely incorrect. Use 'GeoSeries.to_crs()' to re-project geometries to a projected CRS before this operation.\n",
      "\n",
      "  gdf[\"latitude\"] = gdf.geometry.centroid.y\n",
      "C:\\Users\\Sérgio\\AppData\\Local\\Temp\\ipykernel_20968\\1759685319.py:66: UserWarning: Geometry is in a geographic CRS. Results from 'centroid' are likely incorrect. Use 'GeoSeries.to_crs()' to re-project geometries to a projected CRS before this operation.\n",
      "\n",
      "  gdf[\"longitude\"] = gdf.geometry.centroid.x\n",
      "C:\\Users\\Sérgio\\AppData\\Local\\Temp\\ipykernel_20968\\1759685319.py:65: UserWarning: Geometry is in a geographic CRS. Results from 'centroid' are likely incorrect. Use 'GeoSeries.to_crs()' to re-project geometries to a projected CRS before this operation.\n",
      "\n",
      "  gdf[\"latitude\"] = gdf.geometry.centroid.y\n",
      "C:\\Users\\Sérgio\\AppData\\Local\\Temp\\ipykernel_20968\\1759685319.py:66: UserWarning: Geometry is in a geographic CRS. Results from 'centroid' are likely incorrect. Use 'GeoSeries.to_crs()' to re-project geometries to a projected CRS before this operation.\n",
      "\n",
      "  gdf[\"longitude\"] = gdf.geometry.centroid.x\n",
      "C:\\Users\\Sérgio\\AppData\\Local\\Temp\\ipykernel_20968\\1759685319.py:65: UserWarning: Geometry is in a geographic CRS. Results from 'centroid' are likely incorrect. Use 'GeoSeries.to_crs()' to re-project geometries to a projected CRS before this operation.\n",
      "\n",
      "  gdf[\"latitude\"] = gdf.geometry.centroid.y\n",
      "C:\\Users\\Sérgio\\AppData\\Local\\Temp\\ipykernel_20968\\1759685319.py:66: UserWarning: Geometry is in a geographic CRS. Results from 'centroid' are likely incorrect. Use 'GeoSeries.to_crs()' to re-project geometries to a projected CRS before this operation.\n",
      "\n",
      "  gdf[\"longitude\"] = gdf.geometry.centroid.x\n",
      "C:\\Users\\Sérgio\\AppData\\Local\\Temp\\ipykernel_20968\\1759685319.py:65: UserWarning: Geometry is in a geographic CRS. Results from 'centroid' are likely incorrect. Use 'GeoSeries.to_crs()' to re-project geometries to a projected CRS before this operation.\n",
      "\n",
      "  gdf[\"latitude\"] = gdf.geometry.centroid.y\n",
      "C:\\Users\\Sérgio\\AppData\\Local\\Temp\\ipykernel_20968\\1759685319.py:66: UserWarning: Geometry is in a geographic CRS. Results from 'centroid' are likely incorrect. Use 'GeoSeries.to_crs()' to re-project geometries to a projected CRS before this operation.\n",
      "\n",
      "  gdf[\"longitude\"] = gdf.geometry.centroid.x\n",
      "C:\\Users\\Sérgio\\AppData\\Local\\Temp\\ipykernel_20968\\1759685319.py:65: UserWarning: Geometry is in a geographic CRS. Results from 'centroid' are likely incorrect. Use 'GeoSeries.to_crs()' to re-project geometries to a projected CRS before this operation.\n",
      "\n",
      "  gdf[\"latitude\"] = gdf.geometry.centroid.y\n",
      "C:\\Users\\Sérgio\\AppData\\Local\\Temp\\ipykernel_20968\\1759685319.py:66: UserWarning: Geometry is in a geographic CRS. Results from 'centroid' are likely incorrect. Use 'GeoSeries.to_crs()' to re-project geometries to a projected CRS before this operation.\n",
      "\n",
      "  gdf[\"longitude\"] = gdf.geometry.centroid.x\n"
     ]
    },
    {
     "name": "stdout",
     "output_type": "stream",
     "text": [
      "Processando shapefile: ..\\dados\\dados_natal\\SH RM_Natal\\RM_Natal_UDH_2_region.shp\n",
      "Colunas disponíveis no shapefile: Index(['UDH_ATLAS', 'REGIONAL', 'CD_GEOCODM', 'NM_MUNICIP', 'geometry'], dtype='object')\n",
      "Processando shapefile: ..\\dados\\dados_pa\\SH RM_Porto_Alegre\\RM_PortoAlegre_UDH_region.shp\n",
      "Colunas disponíveis no shapefile: Index(['UDH_ATLAS', 'REGIONAL', 'CD_GEOCODM', 'NM_MUNICIP', 'geometry'], dtype='object')\n",
      "Processando shapefile: ..\\dados\\dados_petrolina_juazeiro\\dados_Petrolina_Juazeiro\\SH RIDE Petrolina_Juazeiro\\RIDE_Petrolina_por_UDH_region.shp\n",
      "Colunas disponíveis no shapefile: Index(['UDH_ATLAS', 'REGIONAL', 'CD_GEOCODM', 'NM_MUNICIP', 'geometry'], dtype='object')\n",
      "Processando shapefile: ..\\dados\\dados_recife\\SH RM_Recife\\RM_Recife_UDH_region.shp\n",
      "Colunas disponíveis no shapefile: Index(['UDH_ATLAS', 'REGIONAL', 'CD_GEOCODM', 'NM_MUNICIP', 'geometry'], dtype='object')\n",
      "Processando shapefile: ..\\dados\\dados_rj\\SH RM_Rio_de_Janeiro\\RM_RiodeJaneiro_UDH_3_region.shp\n"
     ]
    },
    {
     "name": "stderr",
     "output_type": "stream",
     "text": [
      "C:\\Users\\Sérgio\\AppData\\Local\\Temp\\ipykernel_20968\\1759685319.py:65: UserWarning: Geometry is in a geographic CRS. Results from 'centroid' are likely incorrect. Use 'GeoSeries.to_crs()' to re-project geometries to a projected CRS before this operation.\n",
      "\n",
      "  gdf[\"latitude\"] = gdf.geometry.centroid.y\n",
      "C:\\Users\\Sérgio\\AppData\\Local\\Temp\\ipykernel_20968\\1759685319.py:66: UserWarning: Geometry is in a geographic CRS. Results from 'centroid' are likely incorrect. Use 'GeoSeries.to_crs()' to re-project geometries to a projected CRS before this operation.\n",
      "\n",
      "  gdf[\"longitude\"] = gdf.geometry.centroid.x\n",
      "c:\\GitHub\\Global Solution 1\\.venv\\Lib\\site-packages\\pyogrio\\raw.py:198: RuntimeWarning: ..\\dados\\dados_rj\\SH RM_Rio_de_Janeiro\\RM_RiodeJaneiro_UDH_3_region.shp contains polygon(s) with rings with invalid winding order. Autocorrecting them, but that shapefile should be corrected using ogr2ogr for example.\n",
      "  return ogr_read(\n",
      "C:\\Users\\Sérgio\\AppData\\Local\\Temp\\ipykernel_20968\\1759685319.py:65: UserWarning: Geometry is in a geographic CRS. Results from 'centroid' are likely incorrect. Use 'GeoSeries.to_crs()' to re-project geometries to a projected CRS before this operation.\n",
      "\n",
      "  gdf[\"latitude\"] = gdf.geometry.centroid.y\n",
      "C:\\Users\\Sérgio\\AppData\\Local\\Temp\\ipykernel_20968\\1759685319.py:66: UserWarning: Geometry is in a geographic CRS. Results from 'centroid' are likely incorrect. Use 'GeoSeries.to_crs()' to re-project geometries to a projected CRS before this operation.\n",
      "\n",
      "  gdf[\"longitude\"] = gdf.geometry.centroid.x\n",
      "C:\\Users\\Sérgio\\AppData\\Local\\Temp\\ipykernel_20968\\1759685319.py:65: UserWarning: Geometry is in a geographic CRS. Results from 'centroid' are likely incorrect. Use 'GeoSeries.to_crs()' to re-project geometries to a projected CRS before this operation.\n",
      "\n",
      "  gdf[\"latitude\"] = gdf.geometry.centroid.y\n",
      "C:\\Users\\Sérgio\\AppData\\Local\\Temp\\ipykernel_20968\\1759685319.py:66: UserWarning: Geometry is in a geographic CRS. Results from 'centroid' are likely incorrect. Use 'GeoSeries.to_crs()' to re-project geometries to a projected CRS before this operation.\n",
      "\n",
      "  gdf[\"longitude\"] = gdf.geometry.centroid.x\n"
     ]
    },
    {
     "name": "stdout",
     "output_type": "stream",
     "text": [
      "Colunas disponíveis no shapefile: Index(['UDH_ATLAS', 'REGIONAL', 'CD_GEOCODM', 'NM_MUNICIP', 'geometry'], dtype='object')\n",
      "Processando shapefile: ..\\dados\\dados_salvador\\SH RM_Salvador\\RM_Salvador_UDH_4_region.shp\n",
      "Colunas disponíveis no shapefile: Index(['UDH_ATLAS', 'CODIGO_MUN', 'NOME_MUNIC', 'geometry'], dtype='object')\n",
      "Processando shapefile: ..\\dados\\dados_sl\\SH RM_Sao_Luis\\RM_SaoLuis_UDH_region.shp\n",
      "Colunas disponíveis no shapefile: Index(['UDH_ATLAS', 'CD_GEOCODM', 'NM_MUNICIP', 'geometry'], dtype='object')\n",
      "Processando shapefile: ..\\dados\\dados_sorocaba\\dados_sorocaba\\SH RM Sorocaba\\RM_Sorocaba_por_UDH_region.shp\n",
      "Colunas disponíveis no shapefile: Index(['UDH_ATLAS', 'REGIONAL', 'CD_GEOCODM', 'NM_MUNICIP', 'geometry'], dtype='object')\n",
      "Processando shapefile: ..\\dados\\dados_sp\\SH RM São Paulo\\RM_SaoPaulo_UDH_region.shp\n"
     ]
    },
    {
     "name": "stderr",
     "output_type": "stream",
     "text": [
      "C:\\Users\\Sérgio\\AppData\\Local\\Temp\\ipykernel_20968\\1759685319.py:65: UserWarning: Geometry is in a geographic CRS. Results from 'centroid' are likely incorrect. Use 'GeoSeries.to_crs()' to re-project geometries to a projected CRS before this operation.\n",
      "\n",
      "  gdf[\"latitude\"] = gdf.geometry.centroid.y\n",
      "C:\\Users\\Sérgio\\AppData\\Local\\Temp\\ipykernel_20968\\1759685319.py:66: UserWarning: Geometry is in a geographic CRS. Results from 'centroid' are likely incorrect. Use 'GeoSeries.to_crs()' to re-project geometries to a projected CRS before this operation.\n",
      "\n",
      "  gdf[\"longitude\"] = gdf.geometry.centroid.x\n",
      "c:\\GitHub\\Global Solution 1\\.venv\\Lib\\site-packages\\pyogrio\\raw.py:198: RuntimeWarning: ..\\dados\\dados_sp\\SH RM São Paulo\\RM_SaoPaulo_UDH_region.shp contains polygon(s) with rings with invalid winding order. Autocorrecting them, but that shapefile should be corrected using ogr2ogr for example.\n",
      "  return ogr_read(\n",
      "C:\\Users\\Sérgio\\AppData\\Local\\Temp\\ipykernel_20968\\1759685319.py:65: UserWarning: Geometry is in a geographic CRS. Results from 'centroid' are likely incorrect. Use 'GeoSeries.to_crs()' to re-project geometries to a projected CRS before this operation.\n",
      "\n",
      "  gdf[\"latitude\"] = gdf.geometry.centroid.y\n",
      "C:\\Users\\Sérgio\\AppData\\Local\\Temp\\ipykernel_20968\\1759685319.py:66: UserWarning: Geometry is in a geographic CRS. Results from 'centroid' are likely incorrect. Use 'GeoSeries.to_crs()' to re-project geometries to a projected CRS before this operation.\n",
      "\n",
      "  gdf[\"longitude\"] = gdf.geometry.centroid.x\n",
      "C:\\Users\\Sérgio\\AppData\\Local\\Temp\\ipykernel_20968\\1759685319.py:65: UserWarning: Geometry is in a geographic CRS. Results from 'centroid' are likely incorrect. Use 'GeoSeries.to_crs()' to re-project geometries to a projected CRS before this operation.\n",
      "\n",
      "  gdf[\"latitude\"] = gdf.geometry.centroid.y\n",
      "C:\\Users\\Sérgio\\AppData\\Local\\Temp\\ipykernel_20968\\1759685319.py:66: UserWarning: Geometry is in a geographic CRS. Results from 'centroid' are likely incorrect. Use 'GeoSeries.to_crs()' to re-project geometries to a projected CRS before this operation.\n",
      "\n",
      "  gdf[\"longitude\"] = gdf.geometry.centroid.x\n"
     ]
    },
    {
     "name": "stdout",
     "output_type": "stream",
     "text": [
      "Colunas disponíveis no shapefile: Index(['UDH_ATLAS', 'CD_GEOCODM', 'NM_MUNICIP', 'RM', 'geometry'], dtype='object')\n",
      "Processando shapefile: ..\\dados\\dados_teresina_timon\\dados_teresina_timon\\SH RIDE Teresina_Timon\\RIDE_Teresina_por_UDH_region.shp\n",
      "Colunas disponíveis no shapefile: Index(['UDH_ATLAS', 'REGIONAL', 'CD_GEOCODM', 'NM_MUNICIP', 'geometry'], dtype='object')\n",
      "Processando shapefile: ..\\dados\\dados_valedoparaiba\\SH RM_Vale_Paraiba\\RM_Vale_Paraiba_UDH_region.shp\n",
      "Colunas disponíveis no shapefile: Index(['UDH_ATLAS', 'CD_GEOCODM', 'NM_MUNICIP', 'RM', 'geometry'], dtype='object')\n",
      "Processando shapefile: ..\\dados\\dados_vitoria\\SH RM_Vitoria\\RM_Vitoria_UDH_2_region.shp\n",
      "Colunas disponíveis no shapefile: Index(['UDH_ATLAS', 'REGIONAL', 'CD_GEOCODM', 'NM_MUNICIP', 'geometry'], dtype='object')\n"
     ]
    },
    {
     "name": "stderr",
     "output_type": "stream",
     "text": [
      "C:\\Users\\Sérgio\\AppData\\Local\\Temp\\ipykernel_20968\\1759685319.py:65: UserWarning: Geometry is in a geographic CRS. Results from 'centroid' are likely incorrect. Use 'GeoSeries.to_crs()' to re-project geometries to a projected CRS before this operation.\n",
      "\n",
      "  gdf[\"latitude\"] = gdf.geometry.centroid.y\n",
      "C:\\Users\\Sérgio\\AppData\\Local\\Temp\\ipykernel_20968\\1759685319.py:66: UserWarning: Geometry is in a geographic CRS. Results from 'centroid' are likely incorrect. Use 'GeoSeries.to_crs()' to re-project geometries to a projected CRS before this operation.\n",
      "\n",
      "  gdf[\"longitude\"] = gdf.geometry.centroid.x\n",
      "C:\\Users\\Sérgio\\AppData\\Local\\Temp\\ipykernel_20968\\1759685319.py:65: UserWarning: Geometry is in a geographic CRS. Results from 'centroid' are likely incorrect. Use 'GeoSeries.to_crs()' to re-project geometries to a projected CRS before this operation.\n",
      "\n",
      "  gdf[\"latitude\"] = gdf.geometry.centroid.y\n",
      "C:\\Users\\Sérgio\\AppData\\Local\\Temp\\ipykernel_20968\\1759685319.py:66: UserWarning: Geometry is in a geographic CRS. Results from 'centroid' are likely incorrect. Use 'GeoSeries.to_crs()' to re-project geometries to a projected CRS before this operation.\n",
      "\n",
      "  gdf[\"longitude\"] = gdf.geometry.centroid.x\n"
     ]
    },
    {
     "data": {
      "text/plain": [
       "np.int64(0)"
      ]
     },
     "execution_count": 1,
     "metadata": {},
     "output_type": "execute_result"
    }
   ],
   "source": [
    "from pathlib import Path\n",
    "import sqlite3\n",
    "import pandas as pd\n",
    "import geopandas as gpd\n",
    "\n",
    "# Caminho do banco de dados\n",
    "DB_PATH = Path(\"C:/GitHub/Global Solution 1/db/gs2025.db\")\n",
    "\n",
    "conn = sqlite3.connect(DB_PATH)\n",
    "df = pd.read_sql(\"SELECT * FROM igv_resultado_all\", conn)\n",
    "conn.close()\n",
    "\n",
    "# Normaliza os nomes das UDHs\n",
    "df[\"nome_udh_norm\"] = df[\"nome_udh\"].str.strip().str.lower()\n",
    "\n",
    "# Diretório base\n",
    "DADOS_DIR = Path(\"../dados\")\n",
    "\n",
    "# Mapeia regiões e seus respectivos shapefiles de UDH\n",
    "mapa_shapefiles = {\n",
    "    \"Belém (PA)\": DADOS_DIR / \"dados_belem\" / \"SH RM_Belem\" / \"RM_Belem_UDH_region.shp\",\n",
    "    \"Belo Horizonte (MG)\": DADOS_DIR / \"dados_bh\" / \"SH RM_Belo_Horizonte\" / \"RM_BeloHorizonte_UDH_region.shp\",\n",
    "    \"Baixada Santista (SP)\": DADOS_DIR / \"dados_bs\" / \"SH RM_Baixada_Santista\" / \"RM_Baixada_Santista_UDH_region.shp\",\n",
    "    \"Campinas (SP)\": DADOS_DIR / \"dados_campinas\" / \"SH RM_Campinas\" / \"SH RM_Campinas\" / \"RM_Campinas_UDH_Atlas_novo_region.shp\",\n",
    "    \"Cuiabá (MT)\": DADOS_DIR / \"dados_cuiaba\" / \"SH RM_Cuiaba\" / \"RM_Cuiaba_UDH_region.shp\",\n",
    "    \"Curitiba (PR)\": DADOS_DIR / \"dados_curitiba\" / \"SH RM_Curitiba\" / \"RM_Curitiba_UDH_region.shp\",\n",
    "    \"Distrito Federal (DF)\": DADOS_DIR / \"dados_df\" / \"SH RIDE_DF\" / \"RM_RIDE_UDH_region.shp\",\n",
    "    \"Florianópolis (SC)\": DADOS_DIR / \"dados_florianopolis\" / \"dados_florianopolis\" / \"SH RM Florianópolis\" / \"RM_Florianopolis_por_UDH_region.shp\",\n",
    "    \"Fortaleza (CE)\": DADOS_DIR / \"dados_fortaleza\" / \"SH RM_Fortaleza\" / \"RM_Fortaleza_UDH_3_region.shp\",\n",
    "    \"Goiânia (GO)\": DADOS_DIR / \"dados_goiania\" / \"SH RM_Goiania\" / \"RM_Goiania_UDH_region.shp\",\n",
    "    \"Maceió (AL)\": DADOS_DIR / \"dados_maceio\" / \"SH RM_Maceio\" / \"RM_Maceio_UDH_region.shp\",\n",
    "    \"Manaus (AM)\": DADOS_DIR / \"dados_manaus\" / \"SH RM_Manaus\" / \"RM_Manaus_UDH_2_region.shp\",\n",
    "    \"Natal (RN)\": DADOS_DIR / \"dados_natal\" / \"SH RM_Natal\" / \"RM_Natal_UDH_2_region.shp\",\n",
    "    \"Porto Alegre (RS)\": DADOS_DIR / \"dados_pa\" / \"SH RM_Porto_Alegre\" / \"RM_PortoAlegre_UDH_region.shp\",\n",
    "    \"Petrolina/Juazeiro (PE/BA)\": DADOS_DIR / \"dados_petrolina_juazeiro\" / \"dados_Petrolina_Juazeiro\" / \"SH RIDE Petrolina_Juazeiro\" / \"RIDE_Petrolina_por_UDH_region.shp\",\n",
    "    \"Recife (PE)\": DADOS_DIR / \"dados_recife\" / \"SH RM_Recife\" / \"RM_Recife_UDH_region.shp\",\n",
    "    \"Rio de Janeiro (RJ)\": DADOS_DIR / \"dados_rj\" / \"SH RM_Rio_de_Janeiro\" / \"RM_RiodeJaneiro_UDH_3_region.shp\",\n",
    "    \"Salvador (BA)\": DADOS_DIR / \"dados_salvador\" / \"SH RM_Salvador\" / \"RM_Salvador_UDH_4_region.shp\",\n",
    "    \"São Luís (MA)\": DADOS_DIR / \"dados_sl\" / \"SH RM_Sao_Luis\" / \"RM_SaoLuis_UDH_region.shp\",\n",
    "    \"Sorocaba (SP)\": DADOS_DIR / \"dados_sorocaba\" / \"dados_sorocaba\" / \"SH RM Sorocaba\" / \"RM_Sorocaba_por_UDH_region.shp\",\n",
    "    \"São Paulo (SP)\": DADOS_DIR / \"dados_sp\" / \"SH RM São Paulo\" / \"RM_SaoPaulo_UDH_region.shp\",\n",
    "    \"Teresina/Timon (PI/MA)\": DADOS_DIR / \"dados_teresina_timon\" / \"dados_teresina_timon\" / \"SH RIDE Teresina_Timon\" / \"RIDE_Teresina_por_UDH_region.shp\",\n",
    "    \"Vale do Paraíba (SP)\": DADOS_DIR / \"dados_valedoparaiba\" / \"SH RM_Vale_Paraiba\" / \"RM_Vale_Paraiba_UDH_region.shp\",\n",
    "    \"Vitória (ES)\": DADOS_DIR / \"dados_vitoria\" / \"SH RM_Vitoria\" / \"RM_Vitoria_UDH_2_region.shp\",\n",
    "}\n",
    "\n",
    "# Adicione as colunas 'latitude' e 'longitude' se não existirem\n",
    "if \"latitude\" not in df.columns:\n",
    "    df[\"latitude\"] = pd.NA\n",
    "if \"longitude\" not in df.columns:\n",
    "    df[\"longitude\"] = pd.NA\n",
    "\n",
    "# Processar todas as regiões\n",
    "total_coords = 0\n",
    "\n",
    "for regiao, shp_path in mapa_shapefiles.items():\n",
    "    if shp_path.exists():\n",
    "        print(f\"Processando shapefile: {shp_path}\")\n",
    "        gdf = gpd.read_file(shp_path)\n",
    "        print(f\"Colunas disponíveis no shapefile: {gdf.columns}\")\n",
    "        \n",
    "        # Verifique se a coluna 'UDH_ATLAS' existe\n",
    "        if \"UDH_ATLAS\" in gdf.columns:\n",
    "            gdf[\"nome_udh_norm\"] = gdf[\"UDH_ATLAS\"].str.strip().str.lower()\n",
    "            gdf[\"latitude\"] = gdf.geometry.centroid.y\n",
    "            gdf[\"longitude\"] = gdf.geometry.centroid.x\n",
    "            coords = gdf[[\"nome_udh_norm\", \"latitude\", \"longitude\"]]\n",
    "            before_merge = df[\"latitude\"].notna().sum()\n",
    "            df = pd.merge(df, coords, on=\"nome_udh_norm\", how=\"left\", suffixes=(\"\", \"_new\"))\n",
    "            df[\"latitude\"] = df[\"latitude\"].combine_first(df[\"latitude_new\"])\n",
    "            df[\"longitude\"] = df[\"longitude\"].combine_first(df[\"longitude_new\"])\n",
    "            df.drop(columns=[\"latitude_new\", \"longitude_new\"], inplace=True)\n",
    "            after_merge = df[\"latitude\"].notna().sum()\n",
    "            total_coords += after_merge - before_merge\n",
    "        else:\n",
    "            print(f\"A coluna 'UDH_ATLAS' não existe no shapefile da região: {regiao}\")\n",
    "    else:\n",
    "        print(f\"Shapefile não encontrado: {shp_path}\")\n",
    "\n",
    "# Atualizar o banco\n",
    "conn = sqlite3.connect(DB_PATH)\n",
    "df.drop(columns=[\"nome_udh_norm\"]).to_sql(\"igv_resultado_all\", conn, if_exists=\"replace\", index=False)\n",
    "conn.close()\n",
    "\n",
    "total_coords\n"
   ]
  },
  {
   "cell_type": "code",
   "execution_count": 2,
   "id": "3ee8ef39",
   "metadata": {},
   "outputs": [
    {
     "name": "stdout",
     "output_type": "stream",
     "text": [
      "Index(['cod_id', 'udh_atlas', 'nome_udh', 'nome_mun', 'nome_uf', 'regiao',\n",
      "       'idhm', 'ren1', 'infraestrutura', 't_rmaxidoso', 'igv', 'latitude',\n",
      "       'longitude', 'nome_udh_norm'],\n",
      "      dtype='object')\n"
     ]
    }
   ],
   "source": [
    "print(df.columns)"
   ]
  },
  {
   "cell_type": "code",
   "execution_count": 3,
   "id": "2d08a439",
   "metadata": {},
   "outputs": [
    {
     "name": "stdout",
     "output_type": "stream",
     "text": [
      "Região: Vitória (ES)\n",
      "Index(['UDH_ATLAS', 'REGIONAL', 'CD_GEOCODM', 'NM_MUNICIP', 'geometry',\n",
      "       'nome_udh_norm', 'latitude', 'longitude'],\n",
      "      dtype='object')\n"
     ]
    }
   ],
   "source": [
    "print(f\"Região: {regiao}\")\n",
    "print(gdf.columns)"
   ]
  },
  {
   "cell_type": "code",
   "execution_count": 4,
   "id": "ee0a7bbf",
   "metadata": {},
   "outputs": [
    {
     "name": "stdout",
     "output_type": "stream",
     "text": [
      "📋 Tabelas disponíveis no banco:\n",
      "                  name\n",
      "0      indicadores_udh\n",
      "1        igv_resultado\n",
      "2  indicadores_udh_all\n",
      "3    igv_resultado_all\n",
      "\n",
      "📄 Dados da tabela 'igv_resultado_all':\n",
      "           cod_id     udh_atlas                                      nome_udh  \\\n",
      "0    1.150080e+12  1.150080e+12                                      40 Horas   \n",
      "1    1.150080e+12  1.150080e+12           40 Horas : Conjunto Antônio Queiroz   \n",
      "2    1.150080e+12  1.150080e+12            40 Horas : Condomínio Vila Firenze   \n",
      "3    1.150080e+12  1.150080e+12  Águas Lindas / Júlia Seffer : Rua da Cohaspa   \n",
      "4    1.150080e+12  1.150080e+12          Júlia Seffer : Conjunto Júlia Seffer   \n",
      "..            ...           ...                                           ...   \n",
      "995  1.314481e+12  1.314481e+12                      Morro do Gama : Miguelão   \n",
      "996  1.314481e+12  1.314481e+12                         Jardim Canadá Parte A   \n",
      "997  1.314481e+12  1.314481e+12                         Jardim Canadá Parte B   \n",
      "998  1.314481e+12  1.314481e+12                         Jardim Canadá Parte C   \n",
      "999  1.314481e+12  1.314481e+12         Nova Lima : Sede ( Centro Histórico )   \n",
      "\n",
      "            nome_mun nome_uf               regiao   idhm   ren1  \\\n",
      "0    Ananindeua (PA)      PA           Belém (PA)  0.574  46.07   \n",
      "1    Ananindeua (PA)      PA           Belém (PA)  0.750  26.89   \n",
      "2    Ananindeua (PA)      PA           Belém (PA)  0.790  24.00   \n",
      "3    Ananindeua (PA)      PA           Belém (PA)  0.493  54.77   \n",
      "4    Ananindeua (PA)      PA           Belém (PA)  0.750  26.89   \n",
      "..               ...     ...                  ...    ...    ...   \n",
      "995   Nova Lima (MG)      MG  Belo Horizonte (MG)  0.613  47.13   \n",
      "996   Nova Lima (MG)      MG  Belo Horizonte (MG)  0.692  47.05   \n",
      "997   Nova Lima (MG)      MG  Belo Horizonte (MG)  0.751  19.87   \n",
      "998   Nova Lima (MG)      MG  Belo Horizonte (MG)  0.626  39.00   \n",
      "999   Nova Lima (MG)      MG  Belo Horizonte (MG)  0.744  33.70   \n",
      "\n",
      "     infraestrutura  t_rmaxidoso       igv latitude longitude  \n",
      "0          0.220867         1.53  0.313243     None      None  \n",
      "1          0.039200         1.51  0.166530     None      None  \n",
      "2          0.004433         2.03  0.139947     None      None  \n",
      "3          0.415967         3.37  0.406343     None      None  \n",
      "4          0.080200         1.51  0.174730     None      None  \n",
      "..              ...          ...       ...      ...       ...  \n",
      "995        0.096633         1.22  0.279257     None      None  \n",
      "996        0.050100         1.76  0.247090     None      None  \n",
      "997        0.008133         0.52  0.136977     None      None  \n",
      "998        0.014433         1.24  0.234567     None      None  \n",
      "999        0.010667         1.21  0.182453     None      None  \n",
      "\n",
      "[1000 rows x 13 columns]\n"
     ]
    }
   ],
   "source": [
    "import sqlite3\n",
    "import pandas as pd\n",
    "from pathlib import Path\n",
    "\n",
    "# Caminho do banco de dados\n",
    "DB_PATH = Path(\"C:/GitHub/Global Solution 1/db/gs2025.db\")\n",
    "\n",
    "# Conectar ao banco de dados\n",
    "conn = sqlite3.connect(DB_PATH)\n",
    "\n",
    "# Listar tabelas disponíveis no banco\n",
    "print(\"📋 Tabelas disponíveis no banco:\")\n",
    "tabelas = pd.read_sql(\"SELECT name FROM sqlite_master WHERE type='table'\", conn)\n",
    "print(tabelas)\n",
    "\n",
    "# Visualizar as primeiras linhas da tabela 'igv_resultado_all'\n",
    "if \"igv_resultado_all\" in tabelas[\"name\"].values:\n",
    "    print(\"\\n📄 Dados da tabela 'igv_resultado_all':\")\n",
    "    df = pd.read_sql(\"SELECT * FROM igv_resultado_all LIMIT 1000\", conn)\n",
    "    print(df)\n",
    "else:\n",
    "    print(\"\\n❌ A tabela 'igv_resultado_all' não foi encontrada no banco de dados.\")\n",
    "\n",
    "# Fechar a conexão\n",
    "conn.close()"
   ]
  },
  {
   "cell_type": "code",
   "execution_count": 5,
   "id": "b479135f",
   "metadata": {},
   "outputs": [
    {
     "name": "stdout",
     "output_type": "stream",
     "text": [
      "<class 'pandas.core.frame.DataFrame'>\n",
      "RangeIndex: 1000 entries, 0 to 999\n",
      "Data columns (total 13 columns):\n",
      " #   Column          Non-Null Count  Dtype  \n",
      "---  ------          --------------  -----  \n",
      " 0   cod_id          1000 non-null   float64\n",
      " 1   udh_atlas       1000 non-null   float64\n",
      " 2   nome_udh        1000 non-null   object \n",
      " 3   nome_mun        1000 non-null   object \n",
      " 4   nome_uf         1000 non-null   object \n",
      " 5   regiao          1000 non-null   object \n",
      " 6   idhm            981 non-null    float64\n",
      " 7   ren1            981 non-null    float64\n",
      " 8   infraestrutura  981 non-null    float64\n",
      " 9   t_rmaxidoso     981 non-null    float64\n",
      " 10  igv             981 non-null    float64\n",
      " 11  latitude        0 non-null      object \n",
      " 12  longitude       0 non-null      object \n",
      "dtypes: float64(7), object(6)\n",
      "memory usage: 101.7+ KB\n"
     ]
    }
   ],
   "source": [
    "df.info()"
   ]
  },
  {
   "cell_type": "code",
   "execution_count": 6,
   "id": "b896d040",
   "metadata": {},
   "outputs": [
    {
     "data": {
      "text/plain": [
       "latitude\n",
       "None    1000\n",
       "Name: count, dtype: int64"
      ]
     },
     "execution_count": 6,
     "metadata": {},
     "output_type": "execute_result"
    }
   ],
   "source": [
    "df['latitude'].value_counts(dropna=False)"
   ]
  },
  {
   "cell_type": "code",
   "execution_count": 8,
   "id": "47c39c17",
   "metadata": {},
   "outputs": [
    {
     "data": {
      "text/plain": [
       "longitude\n",
       "None    1000\n",
       "Name: count, dtype: int64"
      ]
     },
     "execution_count": 8,
     "metadata": {},
     "output_type": "execute_result"
    }
   ],
   "source": [
    "df['longitude'].value_counts(dropna=False)"
   ]
  }
 ],
 "metadata": {
  "kernelspec": {
   "display_name": ".venv",
   "language": "python",
   "name": "python3"
  },
  "language_info": {
   "codemirror_mode": {
    "name": "ipython",
    "version": 3
   },
   "file_extension": ".py",
   "mimetype": "text/x-python",
   "name": "python",
   "nbconvert_exporter": "python",
   "pygments_lexer": "ipython3",
   "version": "3.13.3"
  }
 },
 "nbformat": 4,
 "nbformat_minor": 5
}
